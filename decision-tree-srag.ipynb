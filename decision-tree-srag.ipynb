{
 "cells": [
  {
   "cell_type": "markdown",
   "id": "47606a8c",
   "metadata": {},
   "source": [
    "# DESAFIO!!! \n",
    "\n",
    "<img src='data/imgs/profissional-proativo.jpg' width='100%' />\n",
    "\n",
    "\n",
    "\n",
    "## Vamos praticar!\n",
    "<table style='background-color: #FFF; width=: 100%' >\n",
    "    <tr>\n",
    "        <td width='20%'  style='background-color: #FFF'>\n",
    "            <img src='data/imgs/vamos-praticar.jpg' width='120px' />\n",
    "        </td>\n",
    "        <td width='80%'  style='background-color: #FFF; text-align: left; font-size: 16px'>\n",
    "            Objetivo:\n",
    "            <ul>\n",
    "                <li>Replicar o que fizemos no projeto decision-tree.ipynb, utilizando o dataset 'covid_aluno_srag.csv'</li>\n",
    "                <li>Nossa target será a coluna 'SRAG'</li>\n",
    "            </ul>\n",
    "        </td>\n",
    "    </tr>   \n",
    "</table>\n"
   ]
  }
 ],
 "metadata": {
  "kernelspec": {
   "display_name": "Python 3 (ipykernel)",
   "language": "python",
   "name": "python3"
  },
  "language_info": {
   "codemirror_mode": {
    "name": "ipython",
    "version": 3
   },
   "file_extension": ".py",
   "mimetype": "text/x-python",
   "name": "python",
   "nbconvert_exporter": "python",
   "pygments_lexer": "ipython3",
   "version": "3.9.12"
  }
 },
 "nbformat": 4,
 "nbformat_minor": 5
}
